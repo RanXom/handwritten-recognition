{
 "cells": [
  {
   "cell_type": "markdown",
   "metadata": {},
   "source": [
    "# Handwriting Recognition with Neural Networks\n",
    "Basically in this notebook I am trying to teach a neural network to read—because apparently, even machines need to go to school now.\n",
    "\n",
    "Took the MNIST dataset of handwritten digits (0–9), build a simple 2-layer neural network from scratch (no TensorFlow cheating here), and teach it to predict what digit it's seeing. Let's dive in!"
   ]
  },
  {
   "cell_type": "markdown",
   "metadata": {},
   "source": [
    "## Imports and Dataset Loading\n",
    "Starting with the usual imports: NumPy for math, pandas for data wrangling, and matplotlib for making things look pretty. Then we load our dataset like responsible data scientists."
   ]
  },
  {
   "cell_type": "code",
   "execution_count": 1,
   "metadata": {
    "id": "bD4HoXsXEcDi"
   },
   "outputs": [],
   "source": [
    "import numpy as np\n",
    "import pandas as pd\n",
    "from matplotlib import pyplot as plt"
   ]
  },
  {
   "cell_type": "code",
   "execution_count": 2,
   "metadata": {
    "id": "ffAyunEpExNZ"
   },
   "outputs": [],
   "source": [
    "train_data = pd.read_csv('../datasets/mnist_train.csv')\n",
    "test_data = pd.read_csv('../datasets/mnist_test.csv')"
   ]
  },
  {
   "cell_type": "markdown",
   "metadata": {},
   "source": [
    "## Prepare and Shuffle Data\n",
    "We convert our training dataset to a NumPy array and shuffle it to prevent any ordering bias."
   ]
  },
  {
   "cell_type": "code",
   "execution_count": 3,
   "metadata": {
    "id": "oEs-YK6PGNvA"
   },
   "outputs": [],
   "source": [
    "data = np.array(train_data)\n",
    "m, n = data.shape\n",
    "np.random.shuffle(data)"
   ]
  },
  {
   "cell_type": "markdown",
   "metadata": {},
   "source": [
    "## Extract the Dev Set (Validation)\n",
    "We reserve the first 1000 examples to validate the model’s performance during training."
   ]
  },
  {
   "cell_type": "code",
   "execution_count": 4,
   "metadata": {
    "id": "8iGyE-b5GVim"
   },
   "outputs": [],
   "source": [
    "# Creating development (validation) and training sets\n",
    "data_dev = data[0:1000].T\n",
    "Y_dev = data_dev[0]\n",
    "X_dev = data_dev[1:n]\n",
    "X_dev = X_dev / 255   # Normalizing pixel values"
   ]
  },
  {
   "cell_type": "markdown",
   "metadata": {},
   "source": [
    "## Prepare the Training Set\n",
    "The rest of the dataset is used to train our neural net. We also normalize the pixel values to be between 0 and 1 for better learning performance."
   ]
  },
  {
   "cell_type": "code",
   "execution_count": 5,
   "metadata": {
    "id": "sK1cLSsaPJYk"
   },
   "outputs": [
    {
     "data": {
      "text/plain": [
       "array([1, 3, 5, ..., 4, 6, 3], shape=(59000,))"
      ]
     },
     "execution_count": 5,
     "metadata": {},
     "output_type": "execute_result"
    }
   ],
   "source": [
    "# Creating Training Dataset from remaining\n",
    "data_train = data[1000:m].T\n",
    "Y_train = data_train[0]\n",
    "X_train = data_train[1:n]\n",
    "X_train = X_train / 255   # Normalizing pixel values\n",
    "_,m_train = X_train.shape\n",
    "Y_train"
   ]
  },
  {
   "cell_type": "markdown",
   "metadata": {},
   "source": [
    "## Initialise Parameters\n",
    "Here we initialise the required **weights** and **biases** that we'll use in our neural network. \n",
    "If you are unfamiliar with these terms, here is a short definition of these in accordance to my understanding:\n",
    "\n",
    "**Weights (`W`):** Think of weights as the **\"importance indicators\"** for input features. In a layer, every connection from one neuron to the next has an associated weight. They decide **how strongly an input should influence the output**. If the input is pixels of a digit, weights decide which pixels matter more for recognizing \"3\" vs. \"8\".\n",
    "\n",
    "**Biases (`b`):** Bias is like the **+1 friend** that shifts the activation function. Even if all inputs are zero, a neuron can still activate thanks to the bias. Helps the model fit better by **shifting** the activation up/down."
   ]
  },
  {
   "cell_type": "code",
   "execution_count": 6,
   "metadata": {},
   "outputs": [],
   "source": [
    "def init_params():\n",
    "  # Subtract 0.5 from each para. to keep the range b/w -0.5 to +0.5\n",
    "  W1 = np.random.rand(10, 784) - 0.5\n",
    "  b1 = np.random.rand(10, 1) - 0.5\n",
    "  W2 = np.random.rand(10, 10) - 0.5\n",
    "  b2 = np.random.rand(10, 1) - 0.5\n",
    "  return W1, b1, W2, b2"
   ]
  },
  {
   "cell_type": "markdown",
   "metadata": {},
   "source": [
    "### Working of above function\n",
    "#### Purpose:\n",
    "- Randomly initialize the weights and biases.\n",
    "- Subtracting `0.5` centers them around `0`, so they range from `-0.5` to `+0.5`.\n",
    "\n",
    "#### Why center around 0?\n",
    "- Helps break symmetry. If all weights were the same (say all 0), neurons would learn the same thing. That’s a no-go."
   ]
  },
  {
   "cell_type": "markdown",
   "metadata": {},
   "source": [
    "---"
   ]
  },
  {
   "cell_type": "markdown",
   "metadata": {},
   "source": [
    "## Define Required Mathematical Functions\n",
    "Now, let's start with defining the required functions to handle the math behind our neural network, which will later be used in training and testing the model. Let's understand each function one by one.\n",
    "\n",
    "### 1. **ReLU(Z)** - Rectified Linear Unit\n",
    "#### Mathematical Defintion\n",
    "$$\n",
    "\\text{ReLU}(z) = \\max(0, z)\n",
    "$$\n",
    "### Use of ReLU here\n",
    "- Introduces **non-linearity**, essential for the network to learn complex patterns.\n",
    "- Keeps things sparse — only positive values pass through.\n",
    "\n",
    "### 2. **softmax(Z)** - Squishy Probability Layer\n",
    "#### Mathematical Defintion\n",
    "$$\n",
    "\\text{softmax}(z_i) = \\frac{e^{z_i}}{\\sum_{j=1}^{n} e^{z_j}}\n",
    "$$\n",
    "#### Use of softmax here\n",
    "- Turns raw scores (`Z`) into **probabilities**.\n",
    "- Ensures the output vector adds up to 1.\n",
    "- Each value represents the **probability of the input being class i**.\n",
    "\n",
    "\n",
    "### 3. **one_hot_encode(Y)** - Turn Labels into Vectors\n",
    "#### Purpose\n",
    "Convert labels like `5` → `[0 0 0 0 0 1 0 0 0 0]`  \n",
    "Used for calculating loss with softmax output.\n",
    "\n",
    "### 4. **derivative_ReLU(Z)** - Needed for backprop\n",
    "\n",
    "#### Mathematical Definition\n",
    "$$\n",
    "\\frac{d}{dz} \\text{ReLU}(z) =\n",
    "\\begin{cases}\n",
    "1 & \\text{if } z > 0 \\\\\n",
    "0 & \\text{otherwise}\n",
    "\\end{cases}\n",
    "$$"
   ]
  },
  {
   "cell_type": "code",
   "execution_count": 7,
   "metadata": {
    "id": "rzy8DAYzSTpP"
   },
   "outputs": [],
   "source": [
    "def ReLU(Z):\n",
    "  return np.maximum(Z, 0)\n",
    "\n",
    "def softmax(Z):\n",
    "  A = np.exp(Z) / sum(np.exp(Z))\n",
    "  return A\n",
    "\n",
    "def one_hot_encode(Y):\n",
    "  one_hot = np.zeros((Y.size, Y.max() + 1))\n",
    "  one_hot[np.arange(Y.size), Y] = 1\n",
    "  one_hot = one_hot.T\n",
    "  return one_hot\n",
    "\n",
    "def derivative_ReLU(Z):\n",
    "  return Z > 0"
   ]
  },
  {
   "cell_type": "markdown",
   "metadata": {},
   "source": [
    "## Core Training Loop - Forward Propagation, Backpropagation & Gradient Descent\n",
    "\n",
    "This section defines the heart of how our neural network learns, let's understand each term one by one.\n",
    "##### ***NOTE:** We are trying to build a simple neural network consisting of only 2 layers, not anything comples.*\n",
    "\n",
    "### **1. Forward Propagation** - Computes predictions based on current weights.\n",
    "`forward_propagation(W1, b1, W2, b2, X)`: **Let the data flow!**\n",
    "#### Layer 1 (Input → Hidden):\n",
    "$$\n",
    "Z_1 = W_1 X + b_1\n",
    "$$\n",
    "$$\n",
    "A_1 = \\text{ReLU}(Z_1)\n",
    "$$\n",
    "#### Layer 2 (Hidden → Output):\n",
    "$$\n",
    "Z_2 = W_2 A_1 + b_2\n",
    "$$\n",
    "$$\n",
    "A_2 = \\text{softmax}(Z_2)\n",
    "$$\n",
    "#### Intuition:\n",
    "- We apply matrix multiplication to simulate all neurons at once.\n",
    "- Non-linearity with ReLU → then we calculate class probabilities via softmax.\n",
    "\n",
    "### **2. Backpropagation** - Calculates the gradients of loss w.r.t. all parameters.\n",
    "`back_propogation(...)`: **This is where we compute how wrong the model was and how to adjust the weights.**\n",
    "- ***Note: `m` = number of examples (used for averaging gradients)***\n",
    "### Working:\n",
    "#### 1. Error at output (Softmax + Cross-Entropy derivative):\n",
    "$$\n",
    "dZ_2 = A_2 - Y_{\\text{one-hot}}\n",
    "$$\n",
    "\n",
    "#### 2. Gradient for W2 and b2:\n",
    "$$\n",
    "dW_2 = \\frac{1}{m} dZ_2 \\cdot A_1^T\n",
    "$$\n",
    "$$\n",
    "db_2 = \\frac{1}{m} \\sum dZ_2\n",
    "$$\n",
    "\n",
    "#### 3. Backprop error to hidden layer:\n",
    "$$\n",
    "dZ_1 = (W_2^T \\cdot dZ_2) \\circ \\text{ReLU}'(Z_1)\n",
    "$$\n",
    "\n",
    "> '∘' means element-wise multiplication (Hadamard product)\n",
    "\n",
    "#### 4. Gradient for W1 and b1:\n",
    "$$\n",
    "dW_1 = \\frac{1}{m} dZ_1 \\cdot X^T\n",
    "$$\n",
    "$$\n",
    "db_1 = \\frac{1}{m} \\sum dZ_1\n",
    "$$\n",
    "  \n",
    "### **3. Parameter Update** adjusts weights and biases using those gradients to reduce error over time.\n",
    "`update_parameters(...)`: **Gradient Descent Happens**\n",
    "\n",
    "#### Formula:\n",
    "$$\n",
    "W = W - \\alpha \\cdot \\frac{\\partial \\mathcal{L}}{\\partial W}\n",
    "$$\n",
    "\n",
    "Where:\n",
    "- α = learning rate (how fast you wanna move)\n",
    "- L = loss function\n",
    "\n",
    "Repeat this process until weights are Gucci™ (well-trained)."
   ]
  },
  {
   "cell_type": "code",
   "execution_count": 8,
   "metadata": {},
   "outputs": [],
   "source": [
    "def forward_propogation(W1, b1, W2, b2, X):     # X is A0\n",
    "  Z1 = W1.dot(X) + b1\n",
    "  A1 = ReLU(Z1)\n",
    "  Z2 = W2.dot(A1) + b2\n",
    "  A2 = softmax(Z2)\n",
    "  return Z1, A1, Z2, A2\n",
    "\n",
    "def back_propogation(Z1, A1, Z2, A2, W1, W2, X, Y):\n",
    "    one_hot_Y = one_hot_encode(Y)\n",
    "    dZ2 = A2 - one_hot_Y\n",
    "    dW2 = 1 / m * dZ2.dot(A1.T)\n",
    "    db2 = 1 / m * np.sum(dZ2)\n",
    "    dZ1 = W2.T.dot(dZ2) * derivative_ReLU(Z1)\n",
    "    dW1 = 1 / m * dZ1.dot(X.T)\n",
    "    db1 = 1 / m * np.sum(dZ1)\n",
    "    return dW1, db1, dW2, db2\n",
    "\n",
    "def update_parameters(W1, b1, W2, b2, dW1, db1, dW2, db2, alpha):\n",
    "  W1 = W1 - alpha * dW1\n",
    "  b1 = b1 - alpha * db1\n",
    "  W2 = W2 - alpha * dW2\n",
    "  b2 = b2 - alpha * db2\n",
    "  return W1, b1, W2, b2"
   ]
  },
  {
   "cell_type": "markdown",
   "metadata": {},
   "source": [
    "## Summary Table of Math Used\n",
    "\n",
    "| Function              | Purpose                                  | Core Math Used                                         |\n",
    "|-----------------------|-------------------------------------------|--------------------------------------------------------|\n",
    "| `init_params()`       | Initialize weights/biases                 | Random values in range [-0.5, 0.5]                     |\n",
    "| `ReLU()`              | Non-linearity                             | \\(\\max(0, z)\\)                                         |\n",
    "| `softmax()`           | Probabilistic output                      | \\(\\frac{e^z}{\\sum e^z}\\)                               |\n",
    "| `forward_prop...()`   | Feed input through network                | \\(Z = WX + b\\), apply activation                      |\n",
    "| `one_hot_encode()`    | Label encoding                            | Matrix with 1 in label position                       |\n",
    "| `derivative_ReLU()`   | Backprop chain                            | 1 if z > 0 else 0                                     |\n",
    "| `back_prop...()`      | Compute gradients                         | Chain rule, dot products, element-wise ops            |\n",
    "| `update_parameters()` | Improve weights                           | Gradient Descent: \\(W = W - \\alpha dW\\)               |"
   ]
  },
  {
   "cell_type": "markdown",
   "metadata": {},
   "source": [
    "---"
   ]
  },
  {
   "cell_type": "markdown",
   "metadata": {},
   "source": [
    "## Training the Neural Network with Gradient Descent\n",
    "\n",
    "This section defines the core training loop using **gradient descent**, it utilizes the previously defined mathematical functions all together to helps our neural network *learn* by reducing prediction errors step-by-step.\n",
    "\n",
    "We also define two helper functions:\n",
    "- `get_predictions()`: returns the predicted digit (index of max probability).\n",
    "- `get_accuracy()`: compares predictions with true labels and calculates the accuracy."
   ]
  },
  {
   "cell_type": "code",
   "execution_count": 9,
   "metadata": {
    "id": "NPiU6UzxKC0I"
   },
   "outputs": [],
   "source": [
    "# Define Gradient Descent & it's required functions\n",
    "def get_predictions(A2):\n",
    "    return np.argmax(A2, 0)\n",
    "\n",
    "def get_accuracy(predictions, Y):\n",
    "    print(predictions, Y)\n",
    "    return np.sum(predictions == Y) / Y.size\n",
    "\n",
    "def gradient_descent(X, Y, alpha, iterations):\n",
    "    W1, b1, W2, b2 = init_params()\n",
    "    for i in range(iterations):\n",
    "        Z1, A1, Z2, A2 = forward_propogation(W1, b1, W2, b2, X)\n",
    "        dW1, db1, dW2, db2 = back_propogation(Z1, A1, Z2, A2, W1, W2, X, Y)\n",
    "        W1, b1, W2, b2 = update_parameters(W1, b1, W2, b2, dW1, db1, dW2, db2, alpha)\n",
    "        if i % 10 == 0:\n",
    "            print(\"Iteration: \", i)\n",
    "            predictions = get_predictions(A2)\n",
    "            print(get_accuracy(predictions, Y))\n",
    "    return W1, b1, W2, b2"
   ]
  },
  {
   "cell_type": "markdown",
   "metadata": {},
   "source": [
    "## Training the Model\n",
    "\n",
    "Now that all the functions are defined, let's train our neural network using the **gradient descent** loop.\n",
    "\n",
    "We're passing:\n",
    "- `X_train`, `Y_train`: our training dataset (normalized).\n",
    "- `0.1`: the learning rate (α), a crucial hyperparameter that controls how big our parameter updates are.\n",
    "- `500`: the number of training iterations/epochs.\n",
    "\n",
    "This will return the trained weights and biases: `W1`, `b1`, `W2`, and `b2`, which are now infused with pure digit-recognizing intelligence (aka learned patterns)."
   ]
  },
  {
   "cell_type": "code",
   "execution_count": 10,
   "metadata": {
    "colab": {
     "base_uri": "https://localhost:8080/",
     "height": 304
    },
    "id": "ltJCE92zMmWU",
    "outputId": "73d9d38d-0613-4639-8eed-e86534f12370"
   },
   "outputs": [
    {
     "name": "stdout",
     "output_type": "stream",
     "text": [
      "Iteration:  0\n",
      "[4 4 2 ... 4 4 4] [1 3 5 ... 4 6 3]\n",
      "0.08767796610169491\n",
      "Iteration:  10\n",
      "[4 9 4 ... 3 1 3] [1 3 5 ... 4 6 3]\n",
      "0.1706949152542373\n",
      "Iteration:  20\n",
      "[6 9 6 ... 3 4 3] [1 3 5 ... 4 6 3]\n",
      "0.2475593220338983\n",
      "Iteration:  30\n",
      "[6 9 8 ... 3 4 3] [1 3 5 ... 4 6 3]\n",
      "0.32113559322033897\n",
      "Iteration:  40\n",
      "[6 9 8 ... 9 4 3] [1 3 5 ... 4 6 3]\n",
      "0.384271186440678\n",
      "Iteration:  50\n",
      "[1 9 8 ... 9 6 3] [1 3 5 ... 4 6 3]\n",
      "0.4448305084745763\n",
      "Iteration:  60\n",
      "[1 9 8 ... 9 6 3] [1 3 5 ... 4 6 3]\n",
      "0.5029152542372881\n",
      "Iteration:  70\n",
      "[1 9 8 ... 9 8 3] [1 3 5 ... 4 6 3]\n",
      "0.5465593220338983\n",
      "Iteration:  80\n",
      "[1 9 8 ... 9 8 3] [1 3 5 ... 4 6 3]\n",
      "0.5834745762711865\n",
      "Iteration:  90\n",
      "[1 0 8 ... 9 8 3] [1 3 5 ... 4 6 3]\n",
      "0.6132033898305085\n",
      "Iteration:  100\n",
      "[1 0 8 ... 9 8 3] [1 3 5 ... 4 6 3]\n",
      "0.6402203389830509\n",
      "Iteration:  110\n",
      "[1 3 8 ... 9 8 3] [1 3 5 ... 4 6 3]\n",
      "0.6626949152542373\n",
      "Iteration:  120\n",
      "[1 3 8 ... 9 8 3] [1 3 5 ... 4 6 3]\n",
      "0.6824915254237288\n",
      "Iteration:  130\n",
      "[1 3 8 ... 9 8 3] [1 3 5 ... 4 6 3]\n",
      "0.6990508474576271\n",
      "Iteration:  140\n",
      "[1 3 8 ... 9 8 3] [1 3 5 ... 4 6 3]\n",
      "0.7138474576271187\n",
      "Iteration:  150\n",
      "[1 3 8 ... 4 8 3] [1 3 5 ... 4 6 3]\n",
      "0.725864406779661\n",
      "Iteration:  160\n",
      "[1 3 8 ... 4 5 3] [1 3 5 ... 4 6 3]\n",
      "0.7366779661016949\n",
      "Iteration:  170\n",
      "[1 3 8 ... 4 5 3] [1 3 5 ... 4 6 3]\n",
      "0.7451694915254238\n",
      "Iteration:  180\n",
      "[1 3 8 ... 4 5 3] [1 3 5 ... 4 6 3]\n",
      "0.7539491525423729\n",
      "Iteration:  190\n",
      "[1 3 8 ... 4 5 3] [1 3 5 ... 4 6 3]\n",
      "0.7612542372881356\n",
      "Iteration:  200\n",
      "[1 3 8 ... 4 5 3] [1 3 5 ... 4 6 3]\n",
      "0.768135593220339\n",
      "Iteration:  210\n",
      "[1 3 8 ... 4 5 3] [1 3 5 ... 4 6 3]\n",
      "0.7738983050847458\n",
      "Iteration:  220\n",
      "[1 3 8 ... 4 5 3] [1 3 5 ... 4 6 3]\n",
      "0.7791186440677966\n",
      "Iteration:  230\n",
      "[1 3 8 ... 4 5 3] [1 3 5 ... 4 6 3]\n",
      "0.7841694915254237\n",
      "Iteration:  240\n",
      "[1 3 8 ... 4 5 3] [1 3 5 ... 4 6 3]\n",
      "0.7880338983050847\n",
      "Iteration:  250\n",
      "[1 3 8 ... 4 5 3] [1 3 5 ... 4 6 3]\n",
      "0.7925084745762712\n",
      "Iteration:  260\n",
      "[1 3 8 ... 4 5 3] [1 3 5 ... 4 6 3]\n",
      "0.796271186440678\n",
      "Iteration:  270\n",
      "[1 3 8 ... 4 5 3] [1 3 5 ... 4 6 3]\n",
      "0.799864406779661\n",
      "Iteration:  280\n",
      "[1 3 8 ... 4 5 3] [1 3 5 ... 4 6 3]\n",
      "0.8033050847457627\n",
      "Iteration:  290\n",
      "[1 3 8 ... 4 5 3] [1 3 5 ... 4 6 3]\n",
      "0.8065254237288135\n",
      "Iteration:  300\n",
      "[1 3 8 ... 4 5 3] [1 3 5 ... 4 6 3]\n",
      "0.8096271186440678\n",
      "Iteration:  310\n",
      "[1 3 8 ... 4 5 3] [1 3 5 ... 4 6 3]\n",
      "0.8121864406779661\n",
      "Iteration:  320\n",
      "[1 3 8 ... 4 5 3] [1 3 5 ... 4 6 3]\n",
      "0.8144915254237288\n",
      "Iteration:  330\n",
      "[1 3 8 ... 4 5 3] [1 3 5 ... 4 6 3]\n",
      "0.8170847457627118\n",
      "Iteration:  340\n",
      "[1 3 8 ... 4 6 3] [1 3 5 ... 4 6 3]\n",
      "0.819271186440678\n",
      "Iteration:  350\n",
      "[1 3 8 ... 4 6 3] [1 3 5 ... 4 6 3]\n",
      "0.8215423728813559\n",
      "Iteration:  360\n",
      "[1 3 8 ... 4 6 3] [1 3 5 ... 4 6 3]\n",
      "0.8236271186440678\n",
      "Iteration:  370\n",
      "[1 3 8 ... 4 6 3] [1 3 5 ... 4 6 3]\n",
      "0.8258305084745763\n",
      "Iteration:  380\n",
      "[1 3 8 ... 4 6 3] [1 3 5 ... 4 6 3]\n",
      "0.8278135593220339\n",
      "Iteration:  390\n",
      "[1 3 8 ... 4 6 3] [1 3 5 ... 4 6 3]\n",
      "0.8297118644067797\n",
      "Iteration:  400\n",
      "[1 3 8 ... 4 6 3] [1 3 5 ... 4 6 3]\n",
      "0.831728813559322\n",
      "Iteration:  410\n",
      "[1 3 8 ... 4 6 3] [1 3 5 ... 4 6 3]\n",
      "0.8337457627118644\n",
      "Iteration:  420\n",
      "[1 3 8 ... 4 6 3] [1 3 5 ... 4 6 3]\n",
      "0.8353220338983051\n",
      "Iteration:  430\n",
      "[1 3 8 ... 4 6 3] [1 3 5 ... 4 6 3]\n",
      "0.8370847457627119\n",
      "Iteration:  440\n",
      "[1 3 8 ... 4 6 3] [1 3 5 ... 4 6 3]\n",
      "0.8386271186440678\n",
      "Iteration:  450\n",
      "[1 3 8 ... 4 6 3] [1 3 5 ... 4 6 3]\n",
      "0.8397966101694915\n",
      "Iteration:  460\n",
      "[1 3 8 ... 4 6 3] [1 3 5 ... 4 6 3]\n",
      "0.8413050847457627\n",
      "Iteration:  470\n",
      "[1 3 8 ... 4 6 3] [1 3 5 ... 4 6 3]\n",
      "0.8426440677966102\n",
      "Iteration:  480\n",
      "[1 3 8 ... 4 6 3] [1 3 5 ... 4 6 3]\n",
      "0.843728813559322\n",
      "Iteration:  490\n",
      "[1 3 8 ... 4 6 3] [1 3 5 ... 4 6 3]\n",
      "0.845457627118644\n"
     ]
    }
   ],
   "source": [
    "W1, b1, W2, b2 = gradient_descent(X_train, Y_train, 0.1, 500)"
   ]
  },
  {
   "cell_type": "markdown",
   "metadata": {},
   "source": [
    "## Making Predictions on Training Data\n",
    "\n",
    "Now that the model is trained, we define two utility functions:\n",
    "\n",
    "1. **`make_prediction(X, W1, b1, W2, b2)`** – Given input `X`, this returns the model’s predicted digit.\n",
    "2. **`test_predictions(index, W1, b1, W2, b2)`** – This function:\n",
    "   - Grabs the image at a specific index from the training set.\n",
    "   - Runs it through the model.\n",
    "   - Displays the actual label, predicted label, and visualizes the digit using `matplotlib`.\n",
    "\n",
    "This is basically a mini \"exam\" for the model to show off what it has learned."
   ]
  },
  {
   "cell_type": "code",
   "execution_count": 11,
   "metadata": {
    "id": "mXJkU_zXM8In"
   },
   "outputs": [],
   "source": [
    "def make_prediction(X, W1, b1, W2, b2):\n",
    "    _, _, _, A2 = forward_propogation(W1, b1, W2, b2, X)\n",
    "    predictions = get_predictions(A2)\n",
    "    return predictions\n",
    "\n",
    "def test_predictions(index, W1, b1, W2, b2):\n",
    "    current_image = X_train[:, index, None]\n",
    "    prediction = make_prediction(X_train[:, index, None], W1, b1, W2, b2)\n",
    "    label = Y_train[index]\n",
    "    print(\"Label:\", label)\n",
    "    print(\"Prediction:\", prediction)\n",
    "\n",
    "    current_image = current_image.reshape((28,28)) * 255\n",
    "    plt.gray()\n",
    "    plt.imshow(current_image, interpolation=\"nearest\")\n",
    "    plt.show()"
   ]
  },
  {
   "cell_type": "markdown",
   "metadata": {},
   "source": [
    "## Testing Predictions on a Few Training Examples\n",
    "\n",
    "Let’s try our trained neural net on a few real handwritten digits from the training set and see what it thinks. We’ll look at the image and compare the predicted digit with the actual label.\n",
    "\n",
    "(If it gets them right — flex. If not, well... backprop has entered the chat.)"
   ]
  },
  {
   "cell_type": "code",
   "execution_count": 12,
   "metadata": {},
   "outputs": [
    {
     "name": "stdout",
     "output_type": "stream",
     "text": [
      "Label: 1\n",
      "Prediction: [1]\n"
     ]
    },
    {
     "data": {
      "image/png": "[encoded data removed]",
      "text/plain": [
       "<Figure size 640x480 with 1 Axes>"
      ]
     },
     "metadata": {},
     "output_type": "display_data"
    },
    {
     "name": "stdout",
     "output_type": "stream",
     "text": [
      "Label: 3\n",
      "Prediction: [3]\n"
     ]
    },
    {
     "data": {
      "image/png": "[encoded data removed]",
      "text/plain": [
       "<Figure size 640x480 with 1 Axes>"
      ]
     },
     "metadata": {},
     "output_type": "display_data"
    },
    {
     "name": "stdout",
     "output_type": "stream",
     "text": [
      "Label: 5\n",
      "Prediction: [8]\n"
     ]
    },
    {
     "data": {
      "image/png": "[encoded data removed]",
      "text/plain": [
       "<Figure size 640x480 with 1 Axes>"
      ]
     },
     "metadata": {},
     "output_type": "display_data"
    },
    {
     "name": "stdout",
     "output_type": "stream",
     "text": [
      "Label: 7\n",
      "Prediction: [3]\n"
     ]
    },
    {
     "data": {
      "image/png": "[encoded data removed]",
      "text/plain": [
       "<Figure size 640x480 with 1 Axes>"
      ]
     },
     "metadata": {},
     "output_type": "display_data"
    }
   ],
   "source": [
    "test_predictions(0, W1, b1, W2, b2)\n",
    "test_predictions(1, W1, b1, W2, b2)\n",
    "test_predictions(2, W1, b1, W2, b2)\n",
    "test_predictions(3, W1, b1, W2, b2)"
   ]
  },
  {
   "cell_type": "markdown",
   "metadata": {},
   "source": [
    "## Evaluating Model Accuracy on the Development Set\n",
    "This cell evaluates the accuracy of the model on the development (dev) set that we kept seperately from the start. The predictions for the dev set are generated using the make_prediction function, and the accuracy is then calculated by comparing the predicted labels (dev_predictions) with the true labels (Y_dev)."
   ]
  },
  {
   "cell_type": "code",
   "execution_count": 13,
   "metadata": {},
   "outputs": [
    {
     "name": "stdout",
     "output_type": "stream",
     "text": [
      "[3 0 6 0 2 4 3 3 2 9 3 1 9 8 9 6 0 9 4 7 2 9 8 9 5 7 6 3 0 3 6 3 5 6 2 0 6\n",
      " 0 1 9 7 0 4 7 8 3 3 4 9 5 4 0 8 8 1 4 9 6 8 3 3 4 7 9 9 2 0 9 9 7 9 0 1 0\n",
      " 0 4 7 1 4 4 1 0 6 2 3 5 7 9 3 2 9 9 8 0 2 3 2 1 1 9 0 3 3 3 3 0 8 6 9 1 0\n",
      " 3 8 7 8 8 1 7 5 2 1 9 2 5 8 7 0 7 8 8 1 4 1 5 3 4 2 1 3 5 9 9 1 6 6 3 3 7\n",
      " 4 6 3 1 5 5 0 1 2 8 2 2 7 4 8 4 7 8 7 1 9 0 0 8 4 4 7 2 1 9 4 5 6 3 5 7 1\n",
      " 6 5 9 6 3 6 7 3 7 6 4 5 0 9 1 3 5 7 1 1 5 5 6 0 5 6 2 4 1 4 1 3 4 3 8 0 4\n",
      " 8 4 6 1 4 4 2 1 8 3 8 6 1 7 7 5 7 1 1 7 3 1 7 8 7 9 1 8 4 0 8 4 6 6 7 7 0\n",
      " 3 9 1 4 4 3 4 5 3 3 3 9 9 7 0 4 9 7 0 1 8 5 6 4 4 1 4 9 0 1 2 8 1 4 1 2 2\n",
      " 7 0 1 8 4 7 5 2 9 8 3 2 4 5 7 0 7 0 5 2 6 8 6 6 7 4 8 9 8 5 7 3 8 3 2 9 1\n",
      " 5 5 9 0 4 1 2 7 2 8 9 9 4 2 8 7 7 7 7 7 3 1 1 6 2 3 9 3 1 1 2 7 2 6 7 2 8\n",
      " 7 0 7 8 6 9 2 3 1 8 1 0 7 6 5 5 6 8 7 4 1 2 7 2 3 8 5 3 1 2 3 7 2 5 6 0 8\n",
      " 8 6 8 5 0 1 8 9 3 4 1 4 0 3 1 4 0 8 1 4 6 1 0 6 2 0 6 6 0 1 3 4 1 9 8 4 2\n",
      " 5 5 6 2 7 0 0 1 5 0 7 4 1 6 0 2 1 2 2 6 0 1 8 0 8 2 8 5 6 4 3 4 9 6 2 9 4\n",
      " 2 8 9 7 1 1 0 2 5 8 0 6 1 1 0 9 7 7 5 5 9 8 5 5 9 3 9 2 4 4 3 2 0 5 3 0 6\n",
      " 1 1 8 3 0 0 8 9 9 2 7 2 6 7 1 5 0 6 6 7 3 7 4 3 3 5 0 0 7 9 3 3 3 0 4 6 1\n",
      " 7 3 7 5 2 4 0 0 2 4 2 7 2 0 6 3 8 4 0 7 8 7 1 5 8 6 7 7 9 7 4 6 7 7 4 1 4\n",
      " 0 1 7 4 8 7 7 3 0 3 2 6 0 2 9 7 4 8 9 0 6 5 8 7 9 1 4 5 6 1 6 7 6 9 7 1 0\n",
      " 5 2 1 0 1 4 9 1 6 7 7 1 8 2 2 0 8 1 4 5 1 4 3 4 0 6 3 4 3 7 9 3 7 4 3 5 4\n",
      " 2 6 3 1 0 0 5 6 5 5 5 6 6 8 9 4 5 8 8 2 0 9 0 3 3 7 6 1 1 1 9 9 5 4 6 4 6\n",
      " 3 1 1 8 9 9 8 8 8 1 6 7 5 4 6 8 8 8 7 2 2 6 0 9 6 9 7 3 1 2 9 8 5 2 7 8 0\n",
      " 5 0 6 4 2 5 7 5 5 8 1 6 5 2 6 2 6 1 4 4 4 7 2 2 7 2 1 3 0 9 0 9 5 6 9 8 5\n",
      " 7 8 2 8 7 7 4 8 6 6 8 1 1 2 6 4 7 6 2 8 1 6 9 3 3 0 6 1 5 0 8 2 8 2 3 0 6\n",
      " 8 9 5 8 3 4 9 1 8 3 9 1 6 9 8 4 6 2 3 2 3 3 2 4 1 2 2 9 9 9 8 3 3 7 6 1 3\n",
      " 2 4 0 8 7 7 6 1 0 0 3 4 3 7 7 4 8 7 6 7 0 6 2 4 5 2 5 1 0 4 9 5 8 4 7 0 1\n",
      " 1 5 6 6 2 3 1 3 3 4 0 9 1 3 2 6 8 2 9 2 9 4 5 3 4 6 9 7 0 0 5 6 9 0 6 5 1\n",
      " 3 1 8 9 3 6 8 7 3 1 2 9 3 0 8 7 4 7 9 2 7 9 6 7 4 0 8 9 7 7 6 9 9 2 2 2 5\n",
      " 1 0 3 4 6 6 0 0 7 3 7 9 8 1 0 2 2 1 5 4 1 0 5 9 9 9 6 1 2 5 4 6 1 4 7 0 2\n",
      " 0] [3 0 6 0 2 4 3 3 2 9 5 1 9 8 9 6 0 7 4 7 2 9 5 4 9 3 6 3 0 3 6 3 5 6 2 0 6\n",
      " 0 1 9 7 0 4 7 8 3 3 4 9 8 4 0 8 8 1 4 4 6 3 3 3 4 9 9 9 2 0 9 9 9 9 0 1 0\n",
      " 0 4 7 1 4 4 1 0 6 2 3 5 7 9 3 2 9 9 6 0 8 3 2 4 1 9 0 3 3 3 3 0 8 6 9 1 9\n",
      " 3 8 9 8 8 1 7 5 2 1 9 2 0 5 7 0 7 5 8 1 4 1 9 3 4 2 1 3 5 9 9 1 6 6 3 7 7\n",
      " 9 6 3 1 5 5 0 1 1 8 2 2 9 4 8 4 7 8 7 1 9 0 0 8 4 4 7 2 1 9 4 5 6 3 5 7 1\n",
      " 6 3 9 6 3 6 7 3 9 6 4 5 0 9 1 3 5 7 1 1 5 5 6 0 5 6 2 4 1 4 1 3 4 3 1 0 4\n",
      " 8 4 5 1 4 4 2 1 8 3 2 6 1 7 7 5 7 1 1 7 3 1 7 8 7 9 1 8 4 0 8 4 6 6 7 7 0\n",
      " 5 0 1 4 9 5 4 5 3 3 3 9 9 7 0 4 4 7 0 1 8 5 6 4 4 1 4 1 0 1 2 6 1 2 1 2 2\n",
      " 7 0 1 8 4 7 5 2 9 8 3 2 4 6 7 0 7 0 3 2 6 8 4 6 7 4 6 7 0 9 7 3 8 3 2 9 1\n",
      " 8 5 9 0 2 2 2 7 3 8 9 9 4 2 8 7 9 7 7 7 3 1 1 6 2 3 9 8 1 1 8 9 2 6 7 2 8\n",
      " 7 0 7 1 6 7 1 3 1 6 1 0 7 6 8 4 6 6 3 4 1 2 7 5 3 8 5 3 1 2 3 7 2 5 6 0 8\n",
      " 8 6 8 7 0 1 8 4 3 4 1 4 0 3 1 9 0 8 1 6 6 1 0 6 2 0 0 4 0 1 3 8 1 9 0 4 2\n",
      " 5 5 6 3 7 5 0 1 5 0 7 4 1 6 0 2 1 2 2 6 0 1 8 0 8 2 8 5 6 4 3 4 2 6 2 9 4\n",
      " 2 8 9 7 1 1 0 2 5 8 0 6 1 1 0 4 7 7 5 5 9 8 5 5 9 3 9 2 4 4 3 2 0 5 8 0 8\n",
      " 1 1 8 9 9 0 8 9 7 2 7 2 2 7 1 5 0 6 6 7 3 7 8 3 3 3 0 0 7 9 9 3 3 0 4 6 1\n",
      " 7 8 2 5 3 7 0 2 2 4 2 7 2 0 6 3 8 4 0 7 0 7 1 2 8 6 7 7 7 7 4 6 7 7 4 1 4\n",
      " 0 1 7 4 8 7 7 3 0 3 2 6 0 2 9 7 4 8 4 0 6 5 5 7 9 1 4 5 6 1 2 7 6 9 7 1 0\n",
      " 0 2 1 0 1 4 9 5 6 7 7 1 8 2 2 0 8 1 4 5 1 9 9 4 0 6 3 9 3 7 9 5 9 4 3 5 4\n",
      " 2 6 8 1 0 0 5 6 5 5 5 6 6 8 9 4 5 8 8 2 0 9 0 2 3 7 6 7 1 1 9 9 5 4 6 4 6\n",
      " 3 1 1 8 9 7 8 1 3 1 6 7 5 4 6 8 8 8 7 2 2 8 0 9 6 9 7 3 1 2 9 8 5 2 7 8 0\n",
      " 3 0 2 4 2 5 7 5 5 8 1 6 5 2 6 2 6 1 4 4 0 7 2 6 7 1 8 3 0 4 0 9 5 6 9 8 3\n",
      " 7 8 1 8 7 7 4 8 6 6 2 1 7 2 6 4 7 6 2 8 8 4 9 3 3 0 6 1 5 0 8 2 8 2 3 0 2\n",
      " 8 9 4 8 3 4 9 1 8 3 9 1 6 9 8 4 6 2 3 2 3 5 2 4 1 5 2 9 9 9 8 3 3 7 6 1 3\n",
      " 2 4 0 8 7 7 6 1 0 0 3 4 3 7 7 9 8 7 6 7 0 6 2 4 5 2 8 1 0 4 9 8 8 4 7 0 1\n",
      " 1 5 6 6 2 3 1 5 3 4 3 9 1 3 2 6 9 3 9 2 9 4 5 3 4 6 9 7 0 0 5 6 9 2 6 5 1\n",
      " 3 1 8 9 3 6 8 7 3 1 8 4 3 5 8 9 4 7 9 2 7 9 6 7 4 0 5 9 7 7 6 9 9 1 2 2 5\n",
      " 1 0 3 4 8 6 9 0 7 3 5 9 8 1 5 2 2 1 0 4 1 0 5 9 9 9 6 1 2 8 9 6 1 4 7 0 7\n",
      " 0]\n"
     ]
    },
    {
     "data": {
      "text/plain": [
       "np.float64(0.854)"
      ]
     },
     "execution_count": 13,
     "metadata": {},
     "output_type": "execute_result"
    }
   ],
   "source": [
    "dev_predictions = make_prediction(X_dev, W1, b1, W2, b2)\n",
    "get_accuracy(dev_predictions, Y_dev)"
   ]
  },
  {
   "cell_type": "markdown",
   "metadata": {},
   "source": [
    "## Accuracy on dev set is **85.4%**"
   ]
  }
 ],
 "metadata": {
  "colab": {
   "provenance": []
  },
  "kernelspec": {
   "display_name": "Python 3 (ipykernel)",
   "language": "python",
   "name": "python3"
  },
  "language_info": {
   "codemirror_mode": {
    "name": "ipython",
    "version": 3
   },
   "file_extension": ".py",
   "mimetype": "text/x-python",
   "name": "python",
   "nbconvert_exporter": "python",
   "pygments_lexer": "ipython3",
   "version": "3.12.3"
  }
 },
 "nbformat": 4,
 "nbformat_minor": 4
}
