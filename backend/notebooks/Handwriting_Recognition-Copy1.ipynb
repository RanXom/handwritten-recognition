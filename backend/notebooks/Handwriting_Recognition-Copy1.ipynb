{
 "cells": [
  {
   "cell_type": "code",
   "execution_count": 1,
   "metadata": {
    "id": "bD4HoXsXEcDi"
   },
   "outputs": [],
   "source": [
    "import numpy as np\n",
    "import pandas as pd\n",
    "from matplotlib import pyplot as plt"
   ]
  },
  {
   "cell_type": "code",
   "execution_count": 2,
   "metadata": {
    "id": "ffAyunEpExNZ"
   },
   "outputs": [],
   "source": [
    "train_data = pd.read_csv('../datasets/mnist_train.csv')\n",
    "test_data = pd.read_csv('../datasets/mnist_test.csv')"
   ]
  },
  {
   "cell_type": "code",
   "execution_count": 3,
   "metadata": {
    "id": "oEs-YK6PGNvA"
   },
   "outputs": [],
   "source": [
    "data = np.array(train_data)\n",
    "m, n = data.shape\n",
    "np.random.shuffle(data)"
   ]
  },
  {
   "cell_type": "code",
   "execution_count": 4,
   "metadata": {
    "id": "8iGyE-b5GVim"
   },
   "outputs": [],
   "source": [
    "# Creating development (validation) and training sets\n",
    "data_dev = data[0:1000].T\n",
    "Y_dev = data_dev[0]\n",
    "X_dev = data_dev[1:n]\n",
    "X_dev = X_dev / 255   # Normalizing pixel values"
   ]
  },
  {
   "cell_type": "code",
   "execution_count": 5,
   "metadata": {
    "id": "sK1cLSsaPJYk"
   },
   "outputs": [
    {
     "data": {
      "text/plain": [
       "array([3, 5, 6, ..., 0, 6, 4], shape=(59000,))"
      ]
     },
     "execution_count": 5,
     "metadata": {},
     "output_type": "execute_result"
    }
   ],
   "source": [
    "# Creating Training Dataset from remaining\n",
    "data_train = data[1000:m].T\n",
    "Y_train = data_train[0]\n",
    "X_train = data_train[1:n]\n",
    "X_train = X_train / 255   # Normalizing pixel values\n",
    "_,m_train = X_train.shape\n",
    "Y_train"
   ]
  },
  {
   "cell_type": "code",
   "execution_count": 6,
   "metadata": {},
   "outputs": [],
   "source": [
    "def init_params():\n",
    "  # Subtract 0.5 from each para. to keep the range b/w -0.5 to +0.5\n",
    "  W1 = np.random.rand(10, 784) - 0.5\n",
    "  b1 = np.random.rand(10, 1) - 0.5\n",
    "  W2 = np.random.rand(10, 10) - 0.5\n",
    "  b2 = np.random.rand(10, 1) - 0.5\n",
    "  return W1, b1, W2, b2"
   ]
  },
  {
   "cell_type": "code",
   "execution_count": 7,
   "metadata": {
    "id": "rzy8DAYzSTpP"
   },
   "outputs": [],
   "source": [
    "def ReLU(Z):\n",
    "  return np.maximum(Z, 0)\n",
    "\n",
    "def softmax(Z):\n",
    "  A = np.exp(Z) / sum(np.exp(Z))\n",
    "  return A\n",
    "\n",
    "def one_hot_encode(Y):\n",
    "  one_hot = np.zeros((Y.size, Y.max() + 1))\n",
    "  one_hot[np.arange(Y.size), Y] = 1\n",
    "  one_hot = one_hot.T\n",
    "  return one_hot\n",
    "\n",
    "def derivative_ReLU(Z):\n",
    "  return Z > 0"
   ]
  },
  {
   "cell_type": "code",
   "execution_count": 8,
   "metadata": {},
   "outputs": [],
   "source": [
    "def forward_propogation(W1, b1, W2, b2, X):     # X is A0\n",
    "  Z1 = W1.dot(X) + b1\n",
    "  A1 = ReLU(Z1)\n",
    "  Z2 = W2.dot(A1) + b2\n",
    "  A2 = softmax(Z2)\n",
    "  return Z1, A1, Z2, A2\n",
    "\n",
    "def back_propogation(Z1, A1, Z2, A2, W1, W2, X, Y):\n",
    "    one_hot_Y = one_hot_encode(Y)\n",
    "    dZ2 = A2 - one_hot_Y\n",
    "    dW2 = 1 / m * dZ2.dot(A1.T)\n",
    "    db2 = 1 / m * np.sum(dZ2)\n",
    "    dZ1 = W2.T.dot(dZ2) * derivative_ReLU(Z1)\n",
    "    dW1 = 1 / m * dZ1.dot(X.T)\n",
    "    db1 = 1 / m * np.sum(dZ1)\n",
    "    return dW1, db1, dW2, db2\n",
    "\n",
    "def update_parameters(W1, b1, W2, b2, dW1, db1, dW2, db2, alpha):\n",
    "  W1 = W1 - alpha * dW1\n",
    "  b1 = b1 - alpha * db1\n",
    "  W2 = W2 - alpha * dW2\n",
    "  b2 = b2 - alpha * db2\n",
    "  return W1, b1, W2, b2"
   ]
  },
  {
   "cell_type": "code",
   "execution_count": 9,
   "metadata": {
    "id": "NPiU6UzxKC0I"
   },
   "outputs": [],
   "source": [
    "# Define Gradient Descent & it's required functions\n",
    "def get_predictions(A2):\n",
    "    return np.argmax(A2, 0)\n",
    "\n",
    "def get_accuracy(predictions, Y):\n",
    "    print(predictions, Y)\n",
    "    return np.sum(predictions == Y) / Y.size\n",
    "\n",
    "def gradient_descent(X, Y, alpha, iterations):\n",
    "    W1, b1, W2, b2 = init_params()\n",
    "    for i in range(iterations):\n",
    "        Z1, A1, Z2, A2 = forward_propogation(W1, b1, W2, b2, X)\n",
    "        dW1, db1, dW2, db2 = back_propogation(Z1, A1, Z2, A2, W1, W2, X, Y)\n",
    "        W1, b1, W2, b2 = update_parameters(W1, b1, W2, b2, dW1, db1, dW2, db2, alpha)\n",
    "        if i % 10 == 0:\n",
    "            print(\"Iteration: \", i)\n",
    "            predictions = get_predictions(A2)\n",
    "            print(get_accuracy(predictions, Y))\n",
    "    return W1, b1, W2, b2"
   ]
  },
  {
   "cell_type": "code",
   "execution_count": 10,
   "metadata": {
    "colab": {
     "base_uri": "https://localhost:8080/",
     "height": 304
    },
    "id": "ltJCE92zMmWU",
    "outputId": "73d9d38d-0613-4639-8eed-e86534f12370"
   },
   "outputs": [
    {
     "name": "stdout",
     "output_type": "stream",
     "text": [
      "Iteration:  0\n",
      "[2 4 2 ... 2 2 2] [3 5 6 ... 0 6 4]\n",
      "0.1392542372881356\n",
      "Iteration:  10\n",
      "[0 8 2 ... 2 2 8] [3 5 6 ... 0 6 4]\n",
      "0.1601186440677966\n",
      "Iteration:  20\n",
      "[0 8 2 ... 2 2 8] [3 5 6 ... 0 6 4]\n",
      "0.213\n",
      "Iteration:  30\n",
      "[0 8 8 ... 2 2 5] [3 5 6 ... 0 6 4]\n",
      "0.25354237288135595\n",
      "Iteration:  40\n",
      "[0 8 8 ... 0 2 5] [3 5 6 ... 0 6 4]\n",
      "0.28538983050847455\n",
      "Iteration:  50\n",
      "[0 8 4 ... 0 2 3] [3 5 6 ... 0 6 4]\n",
      "0.32896610169491525\n",
      "Iteration:  60\n",
      "[0 8 4 ... 0 3 3] [3 5 6 ... 0 6 4]\n",
      "0.3795932203389831\n",
      "Iteration:  70\n",
      "[0 8 4 ... 0 3 3] [3 5 6 ... 0 6 4]\n",
      "0.44977966101694916\n",
      "Iteration:  80\n",
      "[0 8 4 ... 0 8 3] [3 5 6 ... 0 6 4]\n",
      "0.5169322033898305\n",
      "Iteration:  90\n",
      "[0 8 4 ... 0 5 3] [3 5 6 ... 0 6 4]\n",
      "0.5555423728813559\n",
      "Iteration:  100\n",
      "[3 8 4 ... 0 5 9] [3 5 6 ... 0 6 4]\n",
      "0.584406779661017\n",
      "Iteration:  110\n",
      "[3 8 4 ... 0 5 9] [3 5 6 ... 0 6 4]\n",
      "0.6084406779661017\n",
      "Iteration:  120\n",
      "[3 8 4 ... 0 5 9] [3 5 6 ... 0 6 4]\n",
      "0.6300508474576271\n",
      "Iteration:  130\n",
      "[3 8 4 ... 0 5 9] [3 5 6 ... 0 6 4]\n",
      "0.6479491525423728\n",
      "Iteration:  140\n",
      "[3 8 4 ... 0 5 9] [3 5 6 ... 0 6 4]\n",
      "0.6643220338983051\n",
      "Iteration:  150\n",
      "[3 8 6 ... 0 5 9] [3 5 6 ... 0 6 4]\n",
      "0.678864406779661\n",
      "Iteration:  160\n",
      "[3 5 6 ... 0 5 9] [3 5 6 ... 0 6 4]\n",
      "0.6914745762711865\n",
      "Iteration:  170\n",
      "[3 5 6 ... 0 5 9] [3 5 6 ... 0 6 4]\n",
      "0.7037796610169491\n",
      "Iteration:  180\n",
      "[3 5 6 ... 0 6 9] [3 5 6 ... 0 6 4]\n",
      "0.7146610169491525\n",
      "Iteration:  190\n",
      "[3 5 6 ... 0 6 9] [3 5 6 ... 0 6 4]\n",
      "0.7249322033898306\n",
      "Iteration:  200\n",
      "[3 5 6 ... 0 6 9] [3 5 6 ... 0 6 4]\n",
      "0.7337457627118644\n",
      "Iteration:  210\n",
      "[3 5 6 ... 0 6 4] [3 5 6 ... 0 6 4]\n",
      "0.7422542372881356\n",
      "Iteration:  220\n",
      "[3 5 6 ... 0 6 4] [3 5 6 ... 0 6 4]\n",
      "0.7496101694915254\n",
      "Iteration:  230\n",
      "[3 5 6 ... 0 6 4] [3 5 6 ... 0 6 4]\n",
      "0.7570338983050847\n",
      "Iteration:  240\n",
      "[3 5 6 ... 0 6 4] [3 5 6 ... 0 6 4]\n",
      "0.7639491525423728\n",
      "Iteration:  250\n",
      "[3 5 6 ... 0 6 4] [3 5 6 ... 0 6 4]\n",
      "0.770593220338983\n",
      "Iteration:  260\n",
      "[3 5 6 ... 0 6 4] [3 5 6 ... 0 6 4]\n",
      "0.7769830508474577\n",
      "Iteration:  270\n",
      "[3 5 6 ... 0 6 4] [3 5 6 ... 0 6 4]\n",
      "0.7829830508474577\n",
      "Iteration:  280\n",
      "[3 5 6 ... 0 6 4] [3 5 6 ... 0 6 4]\n",
      "0.788864406779661\n",
      "Iteration:  290\n",
      "[3 5 6 ... 0 6 4] [3 5 6 ... 0 6 4]\n",
      "0.793271186440678\n",
      "Iteration:  300\n",
      "[3 5 6 ... 0 6 4] [3 5 6 ... 0 6 4]\n",
      "0.7982881355932203\n",
      "Iteration:  310\n",
      "[3 5 6 ... 0 6 4] [3 5 6 ... 0 6 4]\n",
      "0.8022033898305084\n",
      "Iteration:  320\n",
      "[3 5 6 ... 0 6 4] [3 5 6 ... 0 6 4]\n",
      "0.8064576271186441\n",
      "Iteration:  330\n",
      "[3 5 6 ... 0 6 4] [3 5 6 ... 0 6 4]\n",
      "0.8099491525423729\n",
      "Iteration:  340\n",
      "[3 5 6 ... 0 6 4] [3 5 6 ... 0 6 4]\n",
      "0.8133898305084746\n",
      "Iteration:  350\n",
      "[3 5 6 ... 0 6 4] [3 5 6 ... 0 6 4]\n",
      "0.8166271186440678\n",
      "Iteration:  360\n",
      "[3 5 6 ... 0 6 4] [3 5 6 ... 0 6 4]\n",
      "0.8193389830508474\n",
      "Iteration:  370\n",
      "[3 5 6 ... 0 6 4] [3 5 6 ... 0 6 4]\n",
      "0.8220338983050848\n",
      "Iteration:  380\n",
      "[3 5 6 ... 0 6 4] [3 5 6 ... 0 6 4]\n",
      "0.824271186440678\n",
      "Iteration:  390\n",
      "[3 5 6 ... 0 6 4] [3 5 6 ... 0 6 4]\n",
      "0.8262033898305085\n",
      "Iteration:  400\n",
      "[3 5 6 ... 0 6 4] [3 5 6 ... 0 6 4]\n",
      "0.8282881355932203\n",
      "Iteration:  410\n",
      "[3 5 6 ... 0 6 4] [3 5 6 ... 0 6 4]\n",
      "0.8302542372881356\n",
      "Iteration:  420\n",
      "[3 5 6 ... 0 6 4] [3 5 6 ... 0 6 4]\n",
      "0.8325423728813559\n",
      "Iteration:  430\n",
      "[3 5 6 ... 0 6 4] [3 5 6 ... 0 6 4]\n",
      "0.8341186440677966\n",
      "Iteration:  440\n",
      "[3 5 6 ... 0 6 4] [3 5 6 ... 0 6 4]\n",
      "0.8360508474576271\n",
      "Iteration:  450\n",
      "[3 5 6 ... 0 6 4] [3 5 6 ... 0 6 4]\n",
      "0.8382203389830508\n",
      "Iteration:  460\n",
      "[3 5 6 ... 0 6 4] [3 5 6 ... 0 6 4]\n",
      "0.8398474576271187\n",
      "Iteration:  470\n",
      "[3 5 6 ... 0 6 4] [3 5 6 ... 0 6 4]\n",
      "0.841271186440678\n",
      "Iteration:  480\n",
      "[3 5 6 ... 0 6 4] [3 5 6 ... 0 6 4]\n",
      "0.8426610169491525\n",
      "Iteration:  490\n",
      "[3 5 6 ... 0 6 4] [3 5 6 ... 0 6 4]\n",
      "0.8438983050847457\n"
     ]
    }
   ],
   "source": [
    "W1, b1, W2, b2 = gradient_descent(X_train, Y_train, 0.1, 500)"
   ]
  },
  {
   "cell_type": "code",
   "execution_count": 11,
   "metadata": {
    "id": "mXJkU_zXM8In"
   },
   "outputs": [],
   "source": [
    "def make_prediction(X, W1, b1, W2, b2):\n",
    "    _, _, _, A2 = forward_propogation(W1, b1, W2, b2, X)\n",
    "    predictions = get_predictions(A2)\n",
    "    return predictions\n",
    "\n",
    "def test_predictions(index, W1, b1, W2, b2):\n",
    "    current_image = X_train[:, index, None]\n",
    "    prediction = make_prediction(X_train[:, index, None], W1, b1, W2, b2)\n",
    "    label = Y_train[index]\n",
    "    print(\"Label:\", label)\n",
    "    print(\"Prediction:\", prediction)\n",
    "\n",
    "    current_image = current_image.reshape((28,28)) * 255\n",
    "    plt.gray()\n",
    "    plt.imshow(current_image, interpolation=\"nearest\")\n",
    "    plt.show()"
   ]
  },
  {
   "cell_type": "code",
   "execution_count": 12,
   "metadata": {},
   "outputs": [
    {
     "name": "stdout",
     "output_type": "stream",
     "text": [
      "Label: 3\n",
      "Prediction: [3]\n"
     ]
    },
    {
     "data": {
      "image/png": "[encoded data removed]",
      "text/plain": [
       "<Figure size 640x480 with 1 Axes>"
      ]
     },
     "metadata": {},
     "output_type": "display_data"
    },
    {
     "name": "stdout",
     "output_type": "stream",
     "text": [
      "Label: 5\n",
      "Prediction: [5]\n"
     ]
    },
    {
     "data": {
      "image/png": "[encoded data removed]",
      "text/plain": [
       "<Figure size 640x480 with 1 Axes>"
      ]
     },
     "metadata": {},
     "output_type": "display_data"
    },
    {
     "name": "stdout",
     "output_type": "stream",
     "text": [
      "Label: 6\n",
      "Prediction: [6]\n"
     ]
    },
    {
     "data": {
      "image/png": "[encoded data removed]",
      "text/plain": [
       "<Figure size 640x480 with 1 Axes>"
      ]
     },
     "metadata": {},
     "output_type": "display_data"
    },
    {
     "name": "stdout",
     "output_type": "stream",
     "text": [
      "Label: 0\n",
      "Prediction: [0]\n"
     ]
    },
    {
     "data": {
      "image/png": "[encoded data removed]",
      "text/plain": [
       "<Figure size 640x480 with 1 Axes>"
      ]
     },
     "metadata": {},
     "output_type": "display_data"
    }
   ],
   "source": [
    "test_predictions(0, W1, b1, W2, b2)\n",
    "test_predictions(1, W1, b1, W2, b2)\n",
    "test_predictions(2, W1, b1, W2, b2)\n",
    "test_predictions(3, W1, b1, W2, b2)"
   ]
  },
  {
   "cell_type": "code",
   "execution_count": 13,
   "metadata": {},
   "outputs": [
    {
     "name": "stdout",
     "output_type": "stream",
     "text": [
      "[8 7 0 9 5 6 5 0 7 1 8 6 6 8 9 9 7 4 9 1 6 9 5 7 0 5 7 6 9 3 7 4 2 1 9 8 6\n",
      " 3 5 7 8 5 7 3 1 3 5 0 9 3 3 1 8 8 7 0 3 5 5 5 2 7 3 2 5 6 6 6 9 5 7 4 4 0\n",
      " 1 7 0 5 4 5 1 8 9 3 4 6 4 5 5 7 9 1 1 0 1 1 8 5 1 1 3 8 6 5 5 4 4 9 1 7 6\n",
      " 3 5 3 9 0 2 1 5 5 1 3 5 3 3 8 7 4 3 9 0 7 6 6 2 5 7 0 6 5 4 9 9 5 4 8 2 9\n",
      " 8 1 1 9 6 6 5 0 7 0 9 6 6 6 7 9 8 7 8 8 9 8 8 6 5 4 1 8 5 5 8 5 8 6 3 3 6\n",
      " 9 5 4 5 9 0 1 2 3 6 6 4 1 6 5 4 9 2 3 4 1 3 6 8 3 9 8 5 9 3 8 8 3 7 7 4 2\n",
      " 4 1 8 0 6 6 1 7 5 7 6 5 5 3 5 9 4 4 2 1 0 4 2 0 3 4 2 1 3 1 5 6 1 4 4 3 2\n",
      " 1 0 5 5 8 7 8 6 4 8 0 9 9 9 6 3 1 4 7 1 0 2 2 5 4 1 6 4 5 8 6 3 0 4 5 7 4\n",
      " 2 1 7 9 9 9 2 7 8 3 9 2 8 2 9 0 3 8 8 3 9 1 7 1 8 1 9 5 7 6 5 0 4 0 5 5 2\n",
      " 1 4 3 7 7 8 6 6 2 7 2 9 0 6 4 1 1 5 4 8 4 0 6 6 6 0 5 6 3 7 8 4 7 3 3 6 1\n",
      " 2 4 1 2 2 9 6 3 4 4 7 3 6 2 8 9 1 7 4 8 2 6 8 8 2 6 9 7 0 3 8 4 1 6 1 6 6\n",
      " 9 2 8 9 6 3 3 3 1 5 1 1 2 2 5 3 7 2 2 8 3 7 2 4 1 7 6 4 3 5 6 7 0 2 8 9 6\n",
      " 4 9 8 0 9 7 3 1 2 1 2 0 9 9 2 9 9 0 1 9 9 0 4 2 7 8 1 9 0 1 1 2 9 1 7 1 2\n",
      " 7 2 9 9 8 8 0 1 8 1 9 7 2 2 7 4 0 8 4 5 0 6 3 7 2 0 0 0 1 3 2 3 5 9 8 1 3\n",
      " 8 1 3 6 9 4 5 9 5 6 0 0 8 6 7 6 4 1 9 9 3 7 9 8 4 7 7 6 4 8 0 7 0 0 7 6 7\n",
      " 1 2 2 3 1 4 1 9 5 1 3 9 0 5 8 9 5 7 6 5 8 8 3 9 6 5 3 1 0 1 2 9 1 6 6 1 8\n",
      " 0 3 9 0 0 9 6 7 6 9 9 6 8 9 6 9 6 3 3 9 7 2 1 4 9 6 8 2 7 1 7 6 7 9 7 7 2\n",
      " 5 6 0 1 2 9 4 3 0 9 2 9 7 8 5 2 8 6 1 4 2 0 8 8 7 2 6 7 2 6 3 2 0 0 0 7 4\n",
      " 7 6 6 5 7 6 2 0 0 8 8 7 9 4 7 1 8 7 9 5 1 5 9 9 9 6 6 3 7 5 9 4 7 6 3 3 7\n",
      " 8 2 5 2 1 8 5 9 6 8 7 7 0 5 5 8 4 6 2 7 2 8 2 3 5 5 7 6 9 7 5 4 9 1 2 4 5\n",
      " 5 4 1 3 6 3 4 3 3 4 5 4 3 2 1 8 1 9 0 1 2 0 6 5 4 3 4 7 7 4 2 8 8 2 7 4 3\n",
      " 4 0 0 8 3 2 2 3 5 3 0 2 3 4 2 9 8 4 8 2 4 7 0 0 7 4 9 3 4 5 7 3 8 0 3 9 6\n",
      " 0 7 2 8 2 4 2 9 8 6 8 5 8 9 9 1 2 9 7 1 3 8 8 1 3 3 5 9 6 3 1 6 5 4 1 1 6\n",
      " 5 1 5 7 0 1 2 6 0 1 9 3 3 1 1 4 0 1 4 7 6 5 3 2 9 8 1 8 7 6 9 2 7 6 8 5 0\n",
      " 4 0 2 2 5 5 6 2 6 9 7 1 6 3 0 3 1 4 2 6 8 1 4 4 6 0 4 1 0 2 3 7 8 7 9 1 8\n",
      " 2 3 8 7 4 2 3 3 7 5 3 4 6 8 0 0 3 7 6 5 0 3 1 0 1 5 1 1 4 4 7 1 1 8 7 6 0\n",
      " 8 6 2 0 7 8 1 1 6 7 2 4 6 8 5 1 8 3 4 2 9 2 1 8 4 3 6 4 2 0 0 1 1 6 5 1 7\n",
      " 6] [8 7 0 9 5 6 5 0 7 1 8 6 6 5 9 3 7 9 4 1 6 4 8 7 0 5 7 2 9 3 2 4 2 1 9 8 6\n",
      " 8 5 7 8 8 7 3 1 3 8 2 9 3 3 1 8 8 7 0 3 5 5 5 5 7 3 2 5 2 0 6 9 5 7 4 4 0\n",
      " 1 7 0 5 4 3 2 8 9 3 4 6 4 5 5 7 9 1 1 0 3 2 8 5 1 1 3 8 6 5 5 4 4 9 1 7 6\n",
      " 3 5 3 9 0 2 5 8 5 1 3 5 5 5 5 7 4 3 9 0 7 6 6 2 5 7 0 6 5 4 9 9 5 4 8 2 9\n",
      " 8 1 1 7 6 6 5 0 7 0 7 6 6 6 7 9 8 7 8 5 9 8 8 6 7 4 3 8 6 5 8 5 2 6 3 3 6\n",
      " 9 5 4 5 9 0 1 2 3 6 6 4 1 6 9 4 9 2 3 7 1 3 6 8 3 9 7 5 9 5 8 8 3 7 7 4 2\n",
      " 4 1 5 0 6 5 1 7 5 7 6 5 8 5 5 9 4 4 0 1 0 4 2 0 3 4 2 1 3 1 5 6 1 4 4 3 2\n",
      " 1 0 3 5 8 7 8 2 4 8 0 9 7 9 6 3 1 4 7 1 0 2 2 5 4 1 5 4 0 8 6 9 0 4 5 1 4\n",
      " 2 1 7 9 9 4 2 7 1 3 9 2 8 2 9 0 3 5 8 3 9 1 7 1 1 1 9 5 7 6 6 0 4 0 5 5 2\n",
      " 1 4 0 7 9 2 6 0 2 7 2 9 0 6 4 1 1 3 4 8 4 0 6 6 5 0 5 6 3 7 8 4 8 3 3 6 1\n",
      " 2 9 1 2 2 9 6 3 4 4 7 5 2 2 8 9 5 7 4 4 2 6 8 8 2 6 9 7 0 3 5 4 1 6 3 2 6\n",
      " 9 3 9 9 6 3 3 3 1 5 1 1 2 2 5 5 7 2 2 8 3 7 2 4 1 9 6 4 2 5 2 7 0 8 8 9 6\n",
      " 4 9 1 7 9 7 3 1 2 1 2 0 8 9 2 9 9 0 1 4 5 0 4 2 7 1 1 9 0 1 1 2 4 1 7 1 2\n",
      " 3 2 9 9 8 8 5 1 8 1 9 7 2 2 7 4 0 6 4 5 0 6 3 7 2 7 0 0 1 5 2 3 3 9 8 1 3\n",
      " 8 1 3 6 7 4 5 8 5 6 0 0 3 4 7 4 4 8 9 9 8 7 9 8 4 7 7 6 4 9 3 7 0 0 7 6 7\n",
      " 1 2 2 3 1 2 2 9 5 1 3 8 0 5 8 9 5 2 6 5 8 8 3 9 6 5 3 1 0 1 2 4 1 6 6 7 6\n",
      " 0 3 9 0 0 9 6 7 6 4 9 6 5 9 0 7 6 3 3 9 7 2 7 4 9 6 8 2 7 1 7 6 7 9 7 7 2\n",
      " 8 6 0 1 2 9 9 5 0 9 2 9 7 8 5 2 8 6 1 4 2 0 8 8 2 2 6 7 2 3 3 2 0 0 0 9 4\n",
      " 9 6 6 5 7 6 2 0 0 8 8 7 9 9 7 1 8 7 9 5 1 5 9 4 9 6 6 5 7 8 9 9 9 6 3 3 7\n",
      " 8 2 5 2 8 8 8 9 6 4 7 7 0 5 5 8 4 6 2 7 2 1 2 3 5 5 5 6 9 7 5 4 4 1 2 4 5\n",
      " 5 4 1 3 6 3 4 3 3 6 5 4 3 0 1 8 1 9 0 1 2 0 6 8 9 3 4 7 7 4 2 8 5 2 7 4 3\n",
      " 4 0 0 5 3 2 2 3 6 3 0 2 2 4 2 9 9 4 1 2 4 7 0 0 7 5 9 3 4 5 7 3 8 0 3 9 6\n",
      " 0 7 2 8 2 9 2 9 2 6 8 0 8 9 4 1 2 9 7 1 8 8 8 1 3 3 5 9 6 3 1 6 5 4 1 1 6\n",
      " 3 1 5 7 0 1 2 6 0 1 9 3 2 1 1 4 0 1 4 9 6 5 3 2 9 5 1 8 7 6 9 2 7 6 1 5 0\n",
      " 4 0 2 2 5 5 6 2 6 9 7 1 6 3 0 3 1 9 2 6 1 1 4 4 6 0 4 1 5 2 3 7 8 7 4 1 8\n",
      " 2 3 8 7 4 2 3 3 7 5 3 4 6 2 0 0 3 7 6 8 0 3 1 0 1 3 1 1 9 4 7 1 1 8 7 6 0\n",
      " 5 6 0 0 7 1 1 1 6 7 2 6 4 8 5 1 8 3 4 2 7 2 1 8 4 3 6 4 2 0 0 1 1 6 5 1 3\n",
      " 6]\n"
     ]
    },
    {
     "data": {
      "text/plain": [
       "np.float64(0.837)"
      ]
     },
     "execution_count": 13,
     "metadata": {},
     "output_type": "execute_result"
    }
   ],
   "source": [
    "dev_predictions = make_prediction(X_dev, W1, b1, W2, b2)\n",
    "get_accuracy(dev_predictions, Y_dev)"
   ]
  },
  {
   "cell_type": "markdown",
   "metadata": {},
   "source": [
    "## Accuracy on dev set is **85.4%**"
   ]
  }
 ],
 "metadata": {
  "colab": {
   "provenance": []
  },
  "kernelspec": {
   "display_name": "Python 3 (ipykernel)",
   "language": "python",
   "name": "python3"
  },
  "language_info": {
   "codemirror_mode": {
    "name": "ipython",
    "version": 3
   },
   "file_extension": ".py",
   "mimetype": "text/x-python",
   "name": "python",
   "nbconvert_exporter": "python",
   "pygments_lexer": "ipython3",
   "version": "3.12.3"
  }
 },
 "nbformat": 4,
 "nbformat_minor": 4
}
