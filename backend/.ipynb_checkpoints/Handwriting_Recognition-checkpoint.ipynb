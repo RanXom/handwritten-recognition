{
 "cells": [
  {
   "cell_type": "code",
   "execution_count": 2,
   "metadata": {
    "id": "bD4HoXsXEcDi"
   },
   "outputs": [],
   "source": [
    "import numpy as np\n",
    "import pandas as pd\n",
    "from matplotlib import pyplot as plt"
   ]
  },
  {
   "cell_type": "code",
   "execution_count": 3,
   "metadata": {
    "id": "ffAyunEpExNZ"
   },
   "outputs": [],
   "source": [
    "train_data = pd.read_csv('datasets/mnist_train.csv')\n",
    "test_data = pd.read_csv('datasets/mnist_test.csv')"
   ]
  },
  {
   "cell_type": "code",
   "execution_count": 4,
   "metadata": {
    "id": "oEs-YK6PGNvA"
   },
   "outputs": [],
   "source": [
    "data = np.array(train_data)\n",
    "m, n = data.shape\n",
    "np.random.shuffle(data)"
   ]
  },
  {
   "cell_type": "code",
   "execution_count": 5,
   "metadata": {
    "id": "8iGyE-b5GVim"
   },
   "outputs": [],
   "source": [
    "# Creating development (validation) and training sets\n",
    "data_dev = data[0:1000].T\n",
    "Y_dev = data_dev[0]\n",
    "X_dev = data_dev[1:n]\n",
    "X_dev = X_dev / 255   # Normalizing pixel values"
   ]
  },
  {
   "cell_type": "code",
   "execution_count": 6,
   "metadata": {
    "id": "sK1cLSsaPJYk"
   },
   "outputs": [],
   "source": [
    "# Creating Training Dataset from remaining\n",
    "data_train = data[1000:m].T\n",
    "Y_train = data_train[0]\n",
    "X_train = data_train[1:n]\n",
    "X_train = X_train / 255   # Normalizing pixel values\n",
    "_,m_train = X_train.shape"
   ]
  },
  {
   "cell_type": "code",
   "execution_count": 7,
   "metadata": {
    "colab": {
     "base_uri": "https://localhost:8080/"
    },
    "id": "-PpkliPMSSNB",
    "outputId": "0e5c9bfa-5f12-446e-d7ba-90088b0687b4"
   },
   "outputs": [
    {
     "data": {
      "text/plain": [
       "array([5, 2, 7, ..., 1, 2, 3], shape=(59000,))"
      ]
     },
     "execution_count": 7,
     "metadata": {},
     "output_type": "execute_result"
    }
   ],
   "source": [
    "Y_train"
   ]
  },
  {
   "cell_type": "code",
   "execution_count": 8,
   "metadata": {
    "id": "rzy8DAYzSTpP"
   },
   "outputs": [],
   "source": [
    "# Define Required Mathematical Functions\n",
    "def init_params():\n",
    "  # Subtract 0.5 from each para. to keep the range b/w -0.5 to +0.5\n",
    "  W1 = np.random.rand(10, 784) - 0.5\n",
    "  b1 = np.random.rand(10, 1) - 0.5\n",
    "  W2 = np.random.rand(10, 10) - 0.5\n",
    "  b2 = np.random.rand(10, 1) - 0.5\n",
    "  return W1, b1, W2, b2\n",
    "\n",
    "def ReLU(Z):\n",
    "  return np.maximum(Z, 0)\n",
    "\n",
    "def softmax(Z):\n",
    "  A = np.exp(Z) / sum(np.exp(Z))\n",
    "  return A\n",
    "\n",
    "def forward_propogation(W1, b1, W2, b2, X):     # X is A0\n",
    "  Z1 = W1.dot(X) + b1\n",
    "  A1 = ReLU(Z1)\n",
    "  Z2 = W2.dot(A1) + b2\n",
    "  A2 = softmax(Z2)\n",
    "  return Z1, A1, Z2, A2\n",
    "\n",
    "def one_hot_encode(Y):\n",
    "  one_hot = np.zeros((Y.size, Y.max() + 1))\n",
    "  one_hot[np.arange(Y.size), Y] = 1\n",
    "  one_hot = one_hot.T\n",
    "  return one_hot\n",
    "\n",
    "def derivative_ReLU(Z):\n",
    "  return Z > 0\n",
    "\n",
    "def back_propogation(Z1, A1, Z2, A2, W1, W2, X, Y):\n",
    "    one_hot_Y = one_hot_encode(Y)\n",
    "    dZ2 = A2 - one_hot_Y\n",
    "    dW2 = 1 / m * dZ2.dot(A1.T)\n",
    "    db2 = 1 / m * np.sum(dZ2)\n",
    "    dZ1 = W2.T.dot(dZ2) * derivative_ReLU(Z1)\n",
    "    dW1 = 1 / m * dZ1.dot(X.T)\n",
    "    db1 = 1 / m * np.sum(dZ1)\n",
    "    return dW1, db1, dW2, db2\n",
    "\n",
    "def update_parameters(W1, b1, W2, b2, dW1, db1, dW2, db2, alpha):\n",
    "  W1 = W1 - alpha * dW1\n",
    "  b1 = b1 - alpha * db1\n",
    "  W2 = W2 - alpha * dW2\n",
    "  b2 = b2 - alpha * db2\n",
    "  return W1, b1, W2, b2"
   ]
  },
  {
   "cell_type": "code",
   "execution_count": 9,
   "metadata": {
    "id": "NPiU6UzxKC0I"
   },
   "outputs": [],
   "source": [
    "# Define Gradient Descent & it's required functions\n",
    "def get_predictions(A2):\n",
    "    return np.argmax(A2, 0)\n",
    "\n",
    "def get_accuracy(predictions, Y):\n",
    "    print(predictions, Y)\n",
    "    return np.sum(predictions == Y) / Y.size\n",
    "\n",
    "def gradient_descent(X, Y, alpha, iterations):\n",
    "    W1, b1, W2, b2 = init_params()\n",
    "    for i in range(iterations):\n",
    "        Z1, A1, Z2, A2 = forward_propogation(W1, b1, W2, b2, X)\n",
    "        dW1, db1, dW2, db2 = back_propogation(Z1, A1, Z2, A2, W1, W2, X, Y)\n",
    "        W1, b1, W2, b2 = update_parameters(W1, b1, W2, b2, dW1, db1, dW2, db2, alpha)\n",
    "        if i % 10 == 0:\n",
    "            print(\"Iteration: \", i)\n",
    "            predictions = get_predictions(A2)\n",
    "            print(get_accuracy(predictions, Y))\n",
    "    return W1, b1, W2, b2"
   ]
  },
  {
   "cell_type": "code",
   "execution_count": 10,
   "metadata": {
    "colab": {
     "base_uri": "https://localhost:8080/",
     "height": 304
    },
    "id": "ltJCE92zMmWU",
    "outputId": "73d9d38d-0613-4639-8eed-e86534f12370"
   },
   "outputs": [
    {
     "name": "stdout",
     "output_type": "stream",
     "text": [
      "Iteration:  0\n",
      "[1 7 1 ... 7 5 2] [5 2 7 ... 1 2 3]\n",
      "0.062271186440677966\n",
      "Iteration:  10\n",
      "[6 6 1 ... 7 1 2] [5 2 7 ... 1 2 3]\n",
      "0.154\n",
      "Iteration:  20\n",
      "[6 1 1 ... 1 1 2] [5 2 7 ... 1 2 3]\n",
      "0.19794915254237289\n",
      "Iteration:  30\n",
      "[6 1 1 ... 4 1 2] [5 2 7 ... 1 2 3]\n",
      "0.26805084745762714\n",
      "Iteration:  40\n",
      "[6 1 1 ... 4 6 3] [5 2 7 ... 1 2 3]\n",
      "0.339864406779661\n",
      "Iteration:  50\n",
      "[6 3 4 ... 7 6 3] [5 2 7 ... 1 2 3]\n",
      "0.3835593220338983\n",
      "Iteration:  60\n",
      "[6 3 4 ... 7 6 3] [5 2 7 ... 1 2 3]\n",
      "0.4256949152542373\n",
      "Iteration:  70\n",
      "[6 3 4 ... 7 6 3] [5 2 7 ... 1 2 3]\n",
      "0.47452542372881357\n",
      "Iteration:  80\n",
      "[6 3 7 ... 1 6 3] [5 2 7 ... 1 2 3]\n",
      "0.5256440677966102\n",
      "Iteration:  90\n",
      "[6 3 7 ... 1 2 3] [5 2 7 ... 1 2 3]\n",
      "0.5673050847457627\n",
      "Iteration:  100\n",
      "[6 3 7 ... 1 2 3] [5 2 7 ... 1 2 3]\n",
      "0.5970847457627119\n",
      "Iteration:  110\n",
      "[6 3 7 ... 1 2 3] [5 2 7 ... 1 2 3]\n",
      "0.6202542372881356\n",
      "Iteration:  120\n",
      "[6 3 7 ... 1 2 3] [5 2 7 ... 1 2 3]\n",
      "0.6406101694915254\n",
      "Iteration:  130\n",
      "[6 3 7 ... 1 2 3] [5 2 7 ... 1 2 3]\n",
      "0.6563559322033898\n",
      "Iteration:  140\n",
      "[6 3 7 ... 1 2 3] [5 2 7 ... 1 2 3]\n",
      "0.6722203389830509\n",
      "Iteration:  150\n",
      "[6 3 7 ... 1 2 3] [5 2 7 ... 1 2 3]\n",
      "0.6855932203389831\n",
      "Iteration:  160\n",
      "[6 3 7 ... 1 2 3] [5 2 7 ... 1 2 3]\n",
      "0.6978983050847458\n",
      "Iteration:  170\n",
      "[6 2 7 ... 1 2 3] [5 2 7 ... 1 2 3]\n",
      "0.7092542372881356\n",
      "Iteration:  180\n",
      "[6 2 7 ... 1 2 3] [5 2 7 ... 1 2 3]\n",
      "0.7192542372881356\n",
      "Iteration:  190\n",
      "[6 2 7 ... 1 2 3] [5 2 7 ... 1 2 3]\n",
      "0.7282372881355932\n",
      "Iteration:  200\n",
      "[6 2 7 ... 1 2 3] [5 2 7 ... 1 2 3]\n",
      "0.7371864406779661\n",
      "Iteration:  210\n",
      "[6 2 7 ... 1 2 3] [5 2 7 ... 1 2 3]\n",
      "0.7462881355932204\n",
      "Iteration:  220\n",
      "[6 2 7 ... 1 2 3] [5 2 7 ... 1 2 3]\n",
      "0.7532033898305085\n",
      "Iteration:  230\n",
      "[6 2 7 ... 1 2 3] [5 2 7 ... 1 2 3]\n",
      "0.7601016949152543\n",
      "Iteration:  240\n",
      "[6 2 7 ... 1 2 3] [5 2 7 ... 1 2 3]\n",
      "0.7662033898305085\n",
      "Iteration:  250\n",
      "[6 2 7 ... 1 2 3] [5 2 7 ... 1 2 3]\n",
      "0.771728813559322\n",
      "Iteration:  260\n",
      "[6 2 7 ... 1 2 3] [5 2 7 ... 1 2 3]\n",
      "0.777593220338983\n",
      "Iteration:  270\n",
      "[6 2 7 ... 1 2 3] [5 2 7 ... 1 2 3]\n",
      "0.7827796610169492\n",
      "Iteration:  280\n",
      "[6 2 7 ... 1 2 3] [5 2 7 ... 1 2 3]\n",
      "0.7876440677966101\n",
      "Iteration:  290\n",
      "[6 2 7 ... 1 2 3] [5 2 7 ... 1 2 3]\n",
      "0.7925593220338983\n",
      "Iteration:  300\n",
      "[5 2 7 ... 1 2 3] [5 2 7 ... 1 2 3]\n",
      "0.796864406779661\n",
      "Iteration:  310\n",
      "[5 2 7 ... 1 2 3] [5 2 7 ... 1 2 3]\n",
      "0.8007796610169492\n",
      "Iteration:  320\n",
      "[5 2 7 ... 1 2 3] [5 2 7 ... 1 2 3]\n",
      "0.8048474576271186\n",
      "Iteration:  330\n",
      "[5 2 7 ... 1 2 3] [5 2 7 ... 1 2 3]\n",
      "0.8081694915254237\n",
      "Iteration:  340\n",
      "[5 2 7 ... 1 2 3] [5 2 7 ... 1 2 3]\n",
      "0.8117627118644067\n",
      "Iteration:  350\n",
      "[5 2 7 ... 1 2 3] [5 2 7 ... 1 2 3]\n",
      "0.8143728813559322\n",
      "Iteration:  360\n",
      "[5 2 7 ... 1 2 3] [5 2 7 ... 1 2 3]\n",
      "0.8173728813559322\n",
      "Iteration:  370\n",
      "[5 2 7 ... 1 2 3] [5 2 7 ... 1 2 3]\n",
      "0.8201186440677967\n",
      "Iteration:  380\n",
      "[5 2 7 ... 1 2 3] [5 2 7 ... 1 2 3]\n",
      "0.8223389830508474\n",
      "Iteration:  390\n",
      "[5 2 7 ... 1 2 3] [5 2 7 ... 1 2 3]\n",
      "0.8244237288135593\n",
      "Iteration:  400\n",
      "[5 2 7 ... 1 2 3] [5 2 7 ... 1 2 3]\n",
      "0.8263728813559322\n",
      "Iteration:  410\n",
      "[5 2 7 ... 1 2 3] [5 2 7 ... 1 2 3]\n",
      "0.828322033898305\n",
      "Iteration:  420\n",
      "[5 2 7 ... 1 2 3] [5 2 7 ... 1 2 3]\n",
      "0.8304745762711865\n",
      "Iteration:  430\n",
      "[5 2 7 ... 1 2 3] [5 2 7 ... 1 2 3]\n",
      "0.8327627118644068\n",
      "Iteration:  440\n",
      "[5 2 7 ... 1 2 3] [5 2 7 ... 1 2 3]\n",
      "0.8343389830508474\n",
      "Iteration:  450\n",
      "[5 2 7 ... 1 2 3] [5 2 7 ... 1 2 3]\n",
      "0.8361016949152542\n",
      "Iteration:  460\n",
      "[5 2 7 ... 1 2 3] [5 2 7 ... 1 2 3]\n",
      "0.837864406779661\n",
      "Iteration:  470\n",
      "[5 2 7 ... 1 2 3] [5 2 7 ... 1 2 3]\n",
      "0.8394915254237288\n",
      "Iteration:  480\n",
      "[5 2 7 ... 1 2 3] [5 2 7 ... 1 2 3]\n",
      "0.8411355932203389\n",
      "Iteration:  490\n",
      "[5 2 7 ... 1 2 3] [5 2 7 ... 1 2 3]\n",
      "0.8423050847457627\n"
     ]
    }
   ],
   "source": [
    "# Train the model\n",
    "W1, b1, W2, b2 = gradient_descent(X_train, Y_train, 0.1, 500)"
   ]
  },
  {
   "cell_type": "code",
   "execution_count": 13,
   "metadata": {
    "id": "mXJkU_zXM8In"
   },
   "outputs": [],
   "source": [
    "def make_prediction(X, W1, b1, W2, b2):\n",
    "    _, _, _, A2 = forward_propogation(W1, b1, W2, b2, X)\n",
    "    predictions = get_predictions(A2)\n",
    "    return predictions\n",
    "\n",
    "def test_predictions(index, W1, b1, W2, b2):\n",
    "    current_image = X_train[:, index, None]\n",
    "    prediction = make_prediction(X_train[:, index, None], W1, b1, W2, b2)\n",
    "    label = Y_train[index]\n",
    "    print(\"Label:\", label)\n",
    "    print(\"Prediction:\", prediction)\n",
    "\n",
    "    current_image = current_image.reshape((28,28)) * 255\n",
    "    plt.gray()\n",
    "    plt.imshow(current_image, interpolation=\"nearest\")\n",
    "    plt.show()"
   ]
  },
  {
   "cell_type": "code",
   "execution_count": 16,
   "metadata": {},
   "outputs": [
    {
     "name": "stdout",
     "output_type": "stream",
     "text": [
      "Label: 5\n",
      "Prediction: [5]\n"
     ]
    },
    {
     "data": {
      "image/png": "[encoded data removed]",
      "text/plain": [
       "<Figure size 640x480 with 1 Axes>"
      ]
     },
     "metadata": {},
     "output_type": "display_data"
    },
    {
     "name": "stdout",
     "output_type": "stream",
     "text": [
      "Label: 2\n",
      "Prediction: [2]\n"
     ]
    },
    {
     "data": {
      "image/png": "[encoded data removed]",
      "text/plain": [
       "<Figure size 640x480 with 1 Axes>"
      ]
     },
     "metadata": {},
     "output_type": "display_data"
    },
    {
     "name": "stdout",
     "output_type": "stream",
     "text": [
      "Label: 7\n",
      "Prediction: [7]\n"
     ]
    },
    {
     "data": {
      "image/png": "[encoded data removed]",
      "text/plain": [
       "<Figure size 640x480 with 1 Axes>"
      ]
     },
     "metadata": {},
     "output_type": "display_data"
    },
    {
     "name": "stdout",
     "output_type": "stream",
     "text": [
      "Label: 4\n",
      "Prediction: [4]\n"
     ]
    },
    {
     "data": {
      "image/png": "[encoded data removed]",
      "text/plain": [
       "<Figure size 640x480 with 1 Axes>"
      ]
     },
     "metadata": {},
     "output_type": "display_data"
    }
   ],
   "source": [
    "test_predictions(0, W1, b1, W2, b2)\n",
    "test_predictions(1, W1, b1, W2, b2)\n",
    "test_predictions(2, W1, b1, W2, b2)\n",
    "test_predictions(3, W1, b1, W2, b2)"
   ]
  },
  {
   "cell_type": "code",
   "execution_count": 18,
   "metadata": {},
   "outputs": [
    {
     "name": "stdout",
     "output_type": "stream",
     "text": [
      "[2 2 2 3 1 0 7 6 5 3 4 7 0 1 6 0 1 1 7 3 7 5 9 4 7 8 7 2 6 3 2 4 0 6 5 1 0\n",
      " 0 4 9 2 4 9 9 5 1 2 1 4 7 3 4 0 5 0 2 9 0 8 4 4 1 6 1 1 4 5 6 3 0 5 9 1 5\n",
      " 5 2 8 4 8 6 7 2 1 8 2 4 1 2 9 0 7 9 6 7 2 5 2 3 9 5 6 0 2 1 5 7 0 1 8 4 8\n",
      " 3 7 1 6 8 1 6 2 2 5 5 3 1 9 9 4 3 6 3 0 1 8 3 3 8 3 5 3 0 8 3 9 9 8 3 9 7\n",
      " 4 8 6 9 4 4 9 7 6 8 1 4 8 9 9 6 1 9 4 0 1 6 6 2 2 1 0 5 1 1 0 0 6 6 7 1 3\n",
      " 3 0 1 1 9 9 2 7 4 4 5 2 6 1 3 6 9 4 1 8 8 7 8 1 2 6 6 9 1 4 6 1 3 3 3 1 2\n",
      " 3 5 0 8 8 3 8 2 3 0 8 1 8 0 0 7 1 6 1 5 2 3 0 8 0 8 2 2 1 8 1 6 5 8 8 3 1\n",
      " 2 0 0 3 7 7 6 6 6 4 7 1 1 4 6 4 0 0 5 4 3 0 9 0 1 2 2 4 1 1 8 5 8 0 3 9 3\n",
      " 5 6 8 4 1 9 4 1 9 3 8 3 2 7 3 3 7 1 0 9 4 1 0 5 5 2 7 1 9 7 4 7 7 2 6 9 9\n",
      " 1 8 2 8 3 3 5 0 0 3 9 9 9 0 7 8 3 4 8 4 4 7 4 5 9 1 7 1 1 9 4 2 5 1 2 0 8\n",
      " 6 1 8 6 2 2 3 0 9 8 6 7 0 1 8 2 8 9 1 1 3 5 7 0 1 9 1 4 0 4 8 8 8 8 1 9 6\n",
      " 9 7 0 2 5 9 9 4 0 4 4 3 0 8 1 4 9 6 0 4 9 4 3 0 5 6 0 0 8 7 5 4 3 1 1 0 9\n",
      " 8 6 0 4 1 5 0 6 3 3 4 1 4 5 6 9 3 1 0 4 1 5 9 1 3 5 1 0 8 2 2 8 2 3 6 2 5\n",
      " 5 1 6 9 9 6 4 4 0 5 1 6 8 5 5 4 4 1 7 2 4 1 3 6 8 1 8 0 0 2 6 6 3 3 7 7 4\n",
      " 3 3 4 9 7 1 8 1 1 4 6 6 4 2 3 4 8 9 9 9 7 9 9 1 6 4 0 0 6 1 2 2 1 7 1 8 3\n",
      " 9 3 7 0 3 2 4 5 3 0 9 1 7 7 1 5 0 5 4 1 4 8 5 8 1 5 6 3 1 8 7 7 4 4 8 6 3\n",
      " 6 8 8 0 2 3 7 2 3 1 8 8 3 2 7 2 0 2 1 8 1 5 9 1 6 0 7 5 6 8 5 3 7 9 5 3 1\n",
      " 6 6 3 3 8 9 0 9 1 1 7 8 5 9 0 7 3 6 8 1 9 5 7 7 7 3 0 8 4 2 4 5 6 6 9 8 6\n",
      " 1 0 3 4 6 1 7 0 2 9 8 1 0 2 1 5 7 8 9 3 0 5 0 3 1 0 0 2 5 0 4 3 2 7 8 5 3\n",
      " 1 4 9 5 8 2 3 0 4 4 1 2 2 9 2 3 9 6 0 3 3 2 1 6 9 1 4 1 3 0 6 6 4 3 3 7 9\n",
      " 1 8 4 6 7 0 1 1 7 3 0 2 6 2 7 4 6 0 4 0 6 8 7 4 2 2 5 8 4 1 1 3 4 2 7 5 1\n",
      " 0 6 8 6 8 6 4 6 3 5 9 1 4 9 1 5 1 5 7 0 1 4 7 7 7 0 0 7 0 0 4 4 1 4 1 7 3\n",
      " 8 2 2 3 1 5 6 4 9 8 0 8 6 0 8 0 5 3 2 7 4 2 7 8 4 2 4 1 5 3 2 2 6 3 0 3 4\n",
      " 9 8 6 0 4 7 5 7 7 3 6 8 3 5 3 4 2 7 2 8 3 6 7 8 8 1 1 3 9 7 7 9 5 6 5 6 9\n",
      " 6 9 0 2 5 1 4 5 6 2 8 0 9 2 7 6 6 8 2 6 7 9 1 4 0 2 0 8 9 3 8 9 4 0 9 4 2\n",
      " 2 1 9 4 0 5 3 7 1 2 6 7 8 3 4 8 0 4 5 3 8 6 2 9 8 8 9 0 3 1 7 1 7 0 5 3 6\n",
      " 3 6 7 2 6 4 2 0 2 8 7 9 9 8 6 5 3 6 1 0 5 6 3 7 8 6 7 8 9 6 6 9 8 7 1 4 8\n",
      " 0] [2 2 2 3 1 0 7 6 5 2 9 7 0 1 6 0 1 1 7 3 7 5 9 4 7 8 7 2 6 2 2 4 0 6 3 1 0\n",
      " 0 4 9 2 9 9 9 5 1 2 8 9 7 3 4 0 5 0 2 9 0 1 4 4 1 6 1 1 5 3 6 3 0 5 9 1 6\n",
      " 5 2 8 4 2 6 7 2 1 9 2 4 1 2 9 0 7 9 6 7 2 5 2 3 9 5 6 0 6 7 5 7 6 1 8 9 8\n",
      " 8 7 1 6 6 1 6 2 2 5 0 3 1 9 9 4 3 6 8 0 6 8 3 3 8 2 5 3 0 8 3 9 9 8 3 9 2\n",
      " 4 0 6 9 4 8 8 7 6 8 1 4 8 9 9 6 1 9 4 0 5 6 6 2 2 1 0 5 1 1 0 0 6 6 7 2 8\n",
      " 3 0 1 1 4 9 2 7 4 4 5 2 6 1 5 6 7 4 1 8 8 7 8 1 2 6 6 9 1 4 6 1 3 3 3 1 2\n",
      " 3 5 0 3 8 3 8 0 3 0 8 1 5 0 0 7 1 6 1 3 2 3 0 8 6 8 2 2 1 8 2 6 5 8 8 3 1\n",
      " 2 0 0 3 7 3 6 6 6 4 2 1 1 9 6 4 0 0 5 4 3 0 9 0 1 2 2 4 1 1 8 5 3 0 3 9 3\n",
      " 5 4 8 4 1 9 4 1 9 3 8 3 2 7 2 8 7 1 0 9 4 1 5 5 5 2 7 1 7 7 4 7 7 2 6 9 9\n",
      " 5 8 2 8 3 3 5 0 0 3 9 7 9 0 7 8 3 4 8 4 4 7 8 5 8 1 7 1 1 9 4 2 5 1 8 0 8\n",
      " 6 1 8 4 2 2 3 0 9 8 6 7 0 1 8 8 8 9 1 1 3 5 7 0 1 3 1 8 0 4 8 8 8 5 1 9 6\n",
      " 9 7 0 2 5 9 4 4 0 9 4 3 0 8 1 4 9 6 0 4 9 4 3 0 5 6 0 0 2 7 5 9 3 1 1 0 9\n",
      " 8 6 0 4 1 5 0 6 3 3 9 8 4 5 2 9 8 1 0 4 1 5 9 1 3 8 1 0 8 2 2 8 2 3 6 2 5\n",
      " 8 1 6 9 4 6 9 4 0 5 1 6 8 5 5 4 4 1 7 2 4 1 3 6 8 1 8 0 0 2 6 6 3 3 7 7 4\n",
      " 3 3 9 9 7 1 8 1 1 4 6 6 4 8 3 4 8 7 9 9 7 9 4 1 2 4 0 0 6 1 2 2 1 7 1 9 3\n",
      " 9 3 7 0 5 2 4 5 3 0 7 1 7 7 3 3 0 3 4 1 4 1 5 6 1 3 2 3 1 1 7 7 4 4 8 6 3\n",
      " 5 2 8 0 2 2 7 2 3 1 8 8 3 2 7 2 0 3 1 8 1 5 9 1 6 0 7 5 6 8 8 3 7 9 5 3 1\n",
      " 6 6 3 8 1 9 0 8 1 1 7 5 3 4 0 7 3 6 8 1 9 5 7 7 7 3 0 8 4 3 8 5 6 6 9 0 6\n",
      " 1 0 3 4 2 1 7 0 2 9 3 5 0 8 1 3 7 8 9 2 0 5 0 2 1 0 0 2 5 0 4 2 2 7 8 3 3\n",
      " 1 8 9 5 8 2 2 0 4 4 1 2 3 9 2 3 9 2 0 3 3 8 7 6 4 1 4 1 3 0 6 6 4 3 3 7 4\n",
      " 1 8 4 2 7 0 1 1 7 3 0 2 6 2 7 4 6 0 4 0 6 8 7 4 2 2 5 5 4 1 1 3 4 2 7 5 1\n",
      " 0 5 9 6 8 6 1 6 3 3 9 4 4 9 1 2 1 8 7 0 1 4 7 7 7 0 0 7 0 6 2 4 1 4 1 7 3\n",
      " 8 2 2 8 1 8 6 4 9 9 0 8 6 0 8 0 5 3 2 7 4 2 7 8 4 2 4 1 5 3 4 2 6 3 0 3 4\n",
      " 9 8 6 0 9 7 3 2 7 3 6 8 8 5 3 4 2 7 2 6 3 2 7 8 8 1 1 2 9 7 7 9 5 6 5 6 2\n",
      " 6 9 0 2 5 1 9 5 6 2 8 0 9 2 7 6 6 8 2 6 7 9 1 4 0 2 0 8 7 3 8 9 4 0 9 4 2\n",
      " 4 1 9 8 0 5 3 7 1 2 6 7 8 3 4 8 0 4 5 3 8 6 2 4 8 9 9 0 3 7 7 1 7 0 5 3 5\n",
      " 8 6 7 2 6 4 2 0 2 8 7 4 9 1 6 5 3 6 1 0 5 6 3 2 8 6 7 2 9 2 6 9 8 7 1 4 8\n",
      " 0]\n"
     ]
    },
    {
     "data": {
      "text/plain": [
       "np.float64(0.846)"
      ]
     },
     "execution_count": 18,
     "metadata": {},
     "output_type": "execute_result"
    }
   ],
   "source": [
    "# Finding accuracy on dev set\n",
    "dev_predictions = make_prediction(X_dev, W1, b1, W2, b2)\n",
    "get_accuracy(dev_predictions, Y_dev)"
   ]
  },
  {
   "cell_type": "markdown",
   "metadata": {},
   "source": [
    "### Accuracy on dev set is 84.6%"
   ]
  }
 ],
 "metadata": {
  "colab": {
   "provenance": []
  },
  "kernelspec": {
   "display_name": "Python 3 (ipykernel)",
   "language": "python",
   "name": "python3"
  },
  "language_info": {
   "codemirror_mode": {
    "name": "ipython",
    "version": 3
   },
   "file_extension": ".py",
   "mimetype": "text/x-python",
   "name": "python",
   "nbconvert_exporter": "python",
   "pygments_lexer": "ipython3",
   "version": "3.12.3"
  }
 },
 "nbformat": 4,
 "nbformat_minor": 4
}
